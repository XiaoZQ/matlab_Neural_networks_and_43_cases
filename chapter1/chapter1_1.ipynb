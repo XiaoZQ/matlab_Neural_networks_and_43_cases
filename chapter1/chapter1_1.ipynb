{
 "cells": [
  {
   "cell_type": "code",
   "execution_count": 1,
   "metadata": {},
   "outputs": [],
   "source": [
    "import numpy as np\n",
    "import scipy.io as sio\n",
    "import matplotlib.pyplot as plt"
   ]
  },
  {
   "cell_type": "heading",
   "metadata": {},
   "level": 1,
   "source": [
    "读取数据"
   ]
  },
  {
   "cell_type": "code",
   "execution_count": 2,
   "metadata": {},
   "outputs": [],
   "source": [
    "data1=sio.loadmat('chapter1/data1.mat')\n",
    "data2=sio.loadmat('chapter1/data2.mat')\n",
    "data3=sio.loadmat('chapter1/data3.mat')\n",
    "data4=sio.loadmat('chapter1/data4.mat')"
   ]
  },
  {
   "cell_type": "code",
   "execution_count": 3,
   "metadata": {},
   "outputs": [],
   "source": [
    "c1=data1['c1']\n",
    "c2=data2['c2']\n",
    "c3=data3['c3']\n",
    "c4=data4['c4']"
   ]
  },
  {
   "cell_type": "heading",
   "metadata": {},
   "level": 1,
   "source": [
    "在列方向上合并，即添加行"
   ]
  },
  {
   "cell_type": "code",
   "execution_count": 4,
   "metadata": {},
   "outputs": [],
   "source": [
    "data=np.concatenate((c1,c2,c3,c4),axis=0)"
   ]
  },
  {
   "cell_type": "code",
   "execution_count": 5,
   "metadata": {},
   "outputs": [],
   "source": [
    "rows,cols=data.shape\n",
    "input_data=data[:,1:]\n",
    "output_data1=data[:,0]"
   ]
  },
  {
   "cell_type": "code",
   "execution_count": 6,
   "metadata": {},
   "outputs": [],
   "source": [
    "output_data=np.zeros((rows,4))"
   ]
  },
  {
   "cell_type": "code",
   "execution_count": 7,
   "metadata": {},
   "outputs": [],
   "source": [
    "for i in range(1,5):\n",
    "    output_data[output_data1==i,i-1]=1"
   ]
  },
  {
   "cell_type": "code",
   "execution_count": 8,
   "metadata": {},
   "outputs": [],
   "source": [
    "def mapmaxmin(data):\n",
    "    min_data=data.min(axis=0)\n",
    "    max_data=data.max(axis=0)\n",
    "    return (data-min_data)/(max_data-min_data),np.array([max_data,min_data])"
   ]
  },
  {
   "cell_type": "heading",
   "metadata": {},
   "level": 1,
   "source": [
    "随机提取训练集及测试集"
   ]
  },
  {
   "cell_type": "code",
   "execution_count": 9,
   "metadata": {},
   "outputs": [],
   "source": [
    "np.random.seed(1000)\n",
    "k=np.random.choice(range(input_data.shape[0]),2000,replace=False)"
   ]
  },
  {
   "cell_type": "code",
   "execution_count": 97,
   "metadata": {},
   "outputs": [
    {
     "data": {
      "text/plain": [
       "1999"
      ]
     },
     "execution_count": 97,
     "output_type": "execute_result",
     "metadata": {}
    }
   ],
   "source": [
    "max(k)"
   ]
  },
  {
   "cell_type": "code",
   "execution_count": 10,
   "metadata": {},
   "outputs": [],
   "source": [
    "input_train=input_data[k[:1500],:]\n",
    "output_train=output_data[k[:1500],:]\n",
    "input_test=input_data[k[1500:],:]\n",
    "output_test=output_data[k[1500:],:]"
   ]
  },
  {
   "cell_type": "code",
   "execution_count": 11,
   "metadata": {},
   "outputs": [],
   "source": [
    "inputn,inputps=mapmaxmin(input_train)"
   ]
  },
  {
   "cell_type": "code",
   "execution_count": 12,
   "metadata": {},
   "outputs": [
    {
     "data": {
      "text/plain": [
       "(2000, 24)"
      ]
     },
     "execution_count": 12,
     "output_type": "execute_result",
     "metadata": {}
    }
   ],
   "source": [
    "input_data.shape"
   ]
  },
  {
   "cell_type": "heading",
   "metadata": {},
   "level": 1,
   "source": [
    "结构初始化"
   ]
  },
  {
   "cell_type": "code",
   "execution_count": 176,
   "metadata": {},
   "outputs": [],
   "source": [
    "# 网络结构\n",
    "innum=24\n",
    "midnum=25\n",
    "outnum=4\n",
    "# 权值权重阀值初始化\n",
    "w1=np.random.rand(innum,midnum)*2-1\n",
    "b1=np.random.rand(1,midnum)*2-1\n",
    "w2=np.random.rand(midnum,outnum)*2-1\n",
    "b2=np.random.rand(1,outnum)*2-1"
   ]
  },
  {
   "cell_type": "code",
   "execution_count": 177,
   "metadata": {},
   "outputs": [],
   "source": [
    "my_fun=lambda x:1/(1+np.exp(-x))"
   ]
  },
  {
   "cell_type": "code",
   "execution_count": 178,
   "metadata": {},
   "outputs": [],
   "source": [
    "xite=0.5\n",
    "Err=np.zeros(20)\n",
    "for ii in range(len(Err)):\n",
    "    for i in range(len(inputn)):\n",
    "        I=np.dot(inputn[i,:],w1)-b1\n",
    "        Iout=my_fun(I)\n",
    "        yn=np.dot(Iout,w2)-b2\n",
    "        e=output_train[i,:]-yn\n",
    "        Err[ii]+=np.abs(e).sum()\n",
    "        # 计算w2,b2调整量\n",
    "        dw2=np.dot(np.transpose(Iout),e)\n",
    "        db2=e\n",
    "        # 计算w1,b1调整量\n",
    "        FI=Iout*(1-Iout)\n",
    "        dw1=np.dot(np.transpose(inputn[i:i+1,:]),FI*np.dot(e,np.transpose(w2)))\n",
    "        db1=FI*np.dot(e,np.transpose(w2))\n",
    "        \n",
    "        # 权值更新\n",
    "        w1+=xite*dw1\n",
    "        w2+=xite*dw2\n",
    "        b1+=xite*db1\n",
    "        b2+=xite*db2"
   ]
  },
  {
   "cell_type": "heading",
   "metadata": {},
   "level": 1,
   "source": [
    "对训练数据进行同等的归一化"
   ]
  },
  {
   "cell_type": "code",
   "execution_count": 179,
   "metadata": {},
   "outputs": [],
   "source": [
    "inputn_test=(input_test-inputps[1,:])/(inputps[0,:]-inputps[1,:])"
   ]
  },
  {
   "cell_type": "code",
   "execution_count": 180,
   "metadata": {},
   "outputs": [],
   "source": [
    "I=np.dot(inputn_test,w1)-b1\n",
    "Iout=my_fun(I)\n",
    "fore=np.dot(Iout,w2)-b2"
   ]
  },
  {
   "cell_type": "code",
   "execution_count": 181,
   "metadata": {},
   "outputs": [],
   "source": [
    "output_fore=fore.max(axis=1)\n",
    "output_fore=np.reshape(output_fore,(len(output_fore),1))"
   ]
  },
  {
   "cell_type": "heading",
   "metadata": {},
   "level": 1,
   "source": [
    "对每一个分类进行计算其正确程度"
   ]
  },
  {
   "cell_type": "code",
   "execution_count": 189,
   "metadata": {},
   "outputs": [
    {
     "data": {
      "text/plain": [
       "array([ 0.754,  0.742,  1.   ,  0.752])"
      ]
     },
     "execution_count": 189,
     "output_type": "execute_result",
     "metadata": {}
    }
   ],
   "source": [
    "right_data=np.where(output_test-np.equal(fore,output_fore)[1]<0,False,output_test-np.equal(fore,output_fore)[1])\n",
    "(len(right_data)-right_data.sum(axis=0))/len(right_data)"
   ]
  },
  {
   "cell_type": "code",
   "execution_count": 168,
   "metadata": {},
   "outputs": [
    {
     "data": {
      "text/plain": [
       "array([ 4.,  4.,  4.,  4.,  4.,  4.,  4.,  4.,  4.,  4.,  4.,  4.,  4.,\n        4.,  4.,  4.,  4.,  4.,  4.,  4.,  4.,  4.,  4.,  4.,  4.,  4.,\n        4.,  4.,  4.,  4.,  4.,  4.,  4.,  4.,  4.,  4.,  4.,  4.,  4.,\n        4.,  4.,  4.,  4.,  4.,  4.,  4.,  4.,  4.,  4.,  4.,  4.,  4.,\n        4.,  4.,  4.,  4.,  4.,  4.,  4.,  4.,  4.,  4.,  4.,  4.,  4.,\n        4.,  4.,  4.,  4.,  4.,  4.,  4.,  4.,  4.,  4.,  4.,  4.,  4.,\n        4.,  4.,  4.,  4.,  4.,  4.,  4.,  4.,  4.,  4.,  4.,  4.,  4.,\n        4.,  4.,  4.,  4.,  4.,  4.,  4.,  4.,  4.,  4.,  4.,  4.,  4.,\n        4.,  4.,  4.,  4.,  4.,  4.,  4.,  4.,  4.,  4.,  4.,  4.,  4.,\n        4.,  4.,  4.,  4.,  4.,  4.,  4.,  4.,  4.,  4.,  4.,  4.,  4.,\n        4.,  4.,  4.,  4.,  4.,  4.,  4.,  4.,  4.,  4.,  4.,  4.,  4.,\n        4.,  4.,  4.,  4.,  4.,  4.,  4.,  4.,  4.,  4.,  4.,  4.,  4.,\n        4.,  4.,  4.,  4.,  4.,  4.,  4.,  4.,  4.,  4.,  4.,  4.,  4.,\n        4.,  4.,  4.,  4.,  4.,  4.,  4.,  4.,  4.,  4.,  4.,  4.,  4.,\n        4.,  4.,  4.,  4.,  4.,  4.,  4.,  4.,  4.,  4.,  4.,  4.,  4.,\n        4.,  4.,  4.,  4.,  4.,  4.,  4.,  4.,  4.,  4.,  4.,  4.,  4.,\n        4.,  4.,  4.,  4.,  4.,  4.,  4.,  4.,  4.,  4.,  4.,  4.,  4.,\n        4.,  4.,  4.,  4.,  4.,  4.,  4.,  4.,  4.,  4.,  4.,  4.,  4.,\n        4.,  4.,  4.,  4.,  4.,  4.,  4.,  4.,  4.,  4.,  4.,  4.,  4.,\n        4.,  4.,  4.,  4.,  4.,  4.,  4.,  4.,  4.,  4.,  4.,  4.,  4.,\n        4.,  4.,  4.,  4.,  4.,  4.,  4.,  4.,  4.,  4.,  4.,  4.,  4.,\n        4.,  4.,  4.,  4.,  4.,  4.,  4.,  4.,  4.,  4.,  4.,  4.,  4.,\n        4.,  4.,  4.,  4.,  4.,  4.,  4.,  4.,  4.,  4.,  4.,  4.,  4.,\n        4.,  4.,  4.,  4.,  4.,  4.,  4.,  4.,  4.,  4.,  4.,  4.,  4.,\n        4.,  4.,  4.,  4.,  4.,  4.,  4.,  4.,  4.,  4.,  4.,  4.,  4.,\n        4.,  4.,  4.,  4.,  4.,  4.,  4.,  4.,  4.,  4.,  4.,  4.,  4.,\n        4.,  4.,  4.,  4.,  4.,  4.,  4.,  4.,  4.,  4.,  4.,  4.,  4.,\n        4.,  4.,  4.,  4.,  4.,  4.,  4.,  4.,  4.,  4.,  4.,  4.,  4.,\n        4.,  4.,  4.,  4.,  4.,  4.,  4.,  4.,  4.,  4.,  4.,  4.,  4.,\n        4.,  4.,  4.,  4.,  4.,  4.,  4.,  4.,  4.,  4.,  4.,  4.,  4.,\n        4.,  4.,  4.,  4.,  4.,  4.,  4.,  4.,  4.,  4.,  4.,  4.,  4.,\n        4.,  4.,  4.,  4.,  4.,  4.,  4.,  4.,  4.,  4.,  4.,  4.,  4.,\n        4.,  4.,  4.,  4.,  4.,  4.,  4.,  4.,  4.,  4.,  4.,  4.,  4.,\n        4.,  4.,  4.,  4.,  4.,  4.,  4.,  4.,  4.,  4.,  4.,  4.,  4.,\n        4.,  4.,  4.,  4.,  4.,  4.,  4.,  4.,  4.,  4.,  4.,  4.,  4.,\n        4.,  4.,  4.,  4.,  4.,  4.,  4.,  4.,  4.,  4.,  4.,  4.,  4.,\n        4.,  4.,  4.,  4.,  4.,  4.,  4.,  4.,  4.,  4.,  4.,  4.,  4.,\n        4.,  4.,  4.,  4.,  4.,  4.,  4.,  4.,  4.,  4.,  4.,  4.,  4.,\n        4.,  4.,  4.,  4.,  4.,  4.])"
      ]
     },
     "execution_count": 168,
     "output_type": "execute_result",
     "metadata": {}
    }
   ],
   "source": [
    "output_data1[1500:]"
   ]
  },
  {
   "cell_type": "code",
   "execution_count": 36,
   "metadata": {},
   "outputs": [
    {
     "data": {
      "text/plain": [
       "array([[ 1.,  0.,  0.,  0.],\n       [ 0.,  0.,  1.,  0.],\n       [ 0.,  1.,  0.,  0.],\n       ..., \n       [ 1.,  0.,  0.,  0.],\n       [ 0.,  1.,  0.,  0.],\n       [ 0.,  0.,  1.,  0.]])"
      ]
     },
     "execution_count": 36,
     "output_type": "execute_result",
     "metadata": {}
    }
   ],
   "source": [
    "output_test"
   ]
  },
  {
   "cell_type": "code",
   "execution_count": 62,
   "metadata": {},
   "outputs": [
    {
     "data": {
      "text/plain": [
       "array([[  5178292.89251794,  10180386.50769143,    319690.25880034,\n          4389999.32042206],\n       [  5178292.89251794,  10180386.50769143,    319690.25880034,\n          4389999.32042206],\n       [  5178292.89251794,  10180386.50769143,    319690.25880034,\n          4389999.32042206],\n       ..., \n       [  5178292.89251794,  10180386.50769143,    319690.25880034,\n          4389999.32042206],\n       [  5178292.89251794,  10180386.50769143,    319690.25880034,\n          4389999.32042206],\n       [  5178292.89251794,  10180386.50769143,    319690.25880034,\n          4389999.32042206]])"
      ]
     },
     "execution_count": 62,
     "output_type": "execute_result",
     "metadata": {}
    }
   ],
   "source": [
    "np.dot(Iout,w2)"
   ]
  },
  {
   "cell_type": "code",
   "execution_count": 80,
   "metadata": {},
   "outputs": [
    {
     "data": {
      "text/plain": [
       "array([[ -3.45227092e+00,  -3.73983827e+00,  -3.96303939e+00,\n         -4.92644402e+00],\n       [ -1.03464646e+01,  -1.26991446e+01,  -1.30137274e+01,\n         -1.53073810e+01],\n       [  1.71237966e+01,   2.01503065e+01,   2.06119096e+01,\n          2.39063607e+01],\n       [  1.44259127e+01,   1.76539084e+01,   1.74095695e+01,\n          2.12152490e+01],\n       [ -2.86723776e+01,  -3.38331775e+01,  -3.42146758e+01,\n         -4.11020058e+01],\n       [ -3.26050164e+01,  -3.77536864e+01,  -3.85216906e+01,\n         -4.60271110e+01],\n       [  1.67825432e+01,   1.93514685e+01,   2.06328425e+01,\n          2.44785200e+01],\n       [  1.67912522e+01,   1.93988538e+01,   1.94786000e+01,\n          2.35858935e+01],\n       [  1.63166943e+01,   1.98188937e+01,   1.98302922e+01,\n          2.42088582e+01],\n       [ -8.28483942e+00,  -9.46766279e+00,  -9.97634638e+00,\n         -1.22798605e+01],\n       [  1.04614728e+01,   1.34313039e+01,   1.35748087e+01,\n          1.61521094e+01],\n       [  2.23707308e+00,   2.56666405e+00,   2.40143931e+00,\n          3.70523810e+00],\n       [  1.70052434e+01,   2.02458248e+01,   2.05363962e+01,\n          2.37743223e+01],\n       [  1.22658082e+01,   1.44834377e+01,   1.55937281e+01,\n          1.79364342e+01],\n       [ -3.01110627e+01,  -3.62504683e+01,  -3.68820536e+01,\n         -4.39197238e+01],\n       [ -1.49863184e+10,  -1.75372516e+10,  -1.79542054e+10,\n         -2.14119602e+10],\n       [  2.85996281e+00,   3.65640371e+00,   4.00907843e+00,\n          4.39687807e+00],\n       [ -2.11165517e+01,  -2.48021555e+01,  -2.53489179e+01,\n         -2.97201707e+01],\n       [ -9.16098778e+00,  -1.01783032e+01,  -1.06134703e+01,\n         -1.20733928e+01],\n       [  1.59573576e+01,   1.90485310e+01,   1.90105212e+01,\n          2.36228487e+01],\n       [ -3.17978355e+01,  -3.70822741e+01,  -3.81100618e+01,\n         -4.56888559e+01],\n       [ -3.14820804e+01,  -3.75395533e+01,  -3.80323335e+01,\n         -4.52241088e+01],\n       [  4.73180367e+00,   5.69304401e+00,   5.39116212e+00,\n          7.07693555e+00],\n       [  1.51666199e+01,   1.78955202e+01,   1.78514598e+01,\n          2.17868853e+01],\n       [ -3.10522197e+01,  -3.71804207e+01,  -3.84234415e+01,\n         -4.50429197e+01]])"
      ]
     },
     "execution_count": 80,
     "output_type": "execute_result",
     "metadata": {}
    }
   ],
   "source": [
    "w2"
   ]
  },
  {
   "cell_type": "code",
   "execution_count": 184,
   "metadata": {},
   "outputs": [
    {
     "data": {
      "text/plain": [
       "array([[  7.61008429e-03,   6.20721473e-03,   6.98311663e-03, ...,\n          1.29526356e-03,   1.15269214e-03,   3.20231510e-05],\n       [  1.15275048e-02,   1.24660473e-02,   2.87810229e-02, ...,\n          1.88414671e-03,   1.46730007e-03,   6.02686051e-05],\n       [  2.35544987e-02,   1.61899418e-02,   1.25228372e-01, ...,\n          2.06008792e-03,   1.52463876e-03,   5.93225924e-05],\n       ..., \n       [  9.26009998e-03,   8.52777848e-03,   4.92743535e-03, ...,\n          2.19497575e-03,   1.27609051e-03,   4.10167844e-05],\n       [  1.93065722e-02,   1.37751076e-02,   1.58398140e-02, ...,\n          3.11098777e-03,   2.40672248e-03,   7.08181519e-05],\n       [  5.85737917e-03,   6.07032304e-03,   1.34342360e-02, ...,\n          1.83196264e-03,   2.13800214e-03,   4.05748795e-05]])"
      ]
     },
     "execution_count": 184,
     "output_type": "execute_result",
     "metadata": {}
    }
   ],
   "source": [
    "Iout"
   ]
  },
  {
   "cell_type": "code",
   "execution_count": 161,
   "metadata": {},
   "outputs": [
    {
     "data": {
      "text/plain": [
       "(500,)"
      ]
     },
     "execution_count": 161,
     "output_type": "execute_result",
     "metadata": {}
    }
   ],
   "source": [
    "output_fore.shape"
   ]
  },
  {
   "cell_type": "code",
   "execution_count": 20,
   "metadata": {},
   "outputs": [],
   "source": [
    ""
   ]
  },
  {
   "cell_type": "code",
   "execution_count": null,
   "metadata": {},
   "outputs": [],
   "source": [
    ""
   ]
  }
 ],
 "metadata": {},
 "nbformat": 4,
 "nbformat_minor": 0
}