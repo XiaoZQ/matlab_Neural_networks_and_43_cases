{
 "cells": [
  {
   "cell_type": "code",
   "execution_count": 1,
   "metadata": {},
   "outputs": [],
   "source": [
    "import numpy as np\n",
    "import scipy.io as sio\n",
    "import matplotlib.pyplot as plt"
   ]
  },
  {
   "cell_type": "heading",
   "metadata": {},
   "level": 1,
   "source": [
    "读取数据"
   ]
  },
  {
   "cell_type": "code",
   "execution_count": 20,
   "metadata": {},
   "outputs": [],
   "source": [
    "data1=sio.loadmat('chapter1/data1.mat')\n",
    "data2=sio.loadmat('chapter1/data2.mat')\n",
    "data3=sio.loadmat('chapter1/data3.mat')\n",
    "data4=sio.loadmat('chapter1/data4.mat')"
   ]
  },
  {
   "cell_type": "code",
   "execution_count": 21,
   "metadata": {},
   "outputs": [],
   "source": [
    "c1=data1['c1']\n",
    "c2=data2['c2']\n",
    "c3=data3['c3']\n",
    "c4=data4['c4']"
   ]
  },
  {
   "cell_type": "heading",
   "metadata": {},
   "level": 1,
   "source": [
    "在列方向上合并，即添加行"
   ]
  },
  {
   "cell_type": "code",
   "execution_count": 22,
   "metadata": {},
   "outputs": [],
   "source": [
    "data=np.concatenate((c1,c2,c3,c4),axis=0)"
   ]
  },
  {
   "cell_type": "code",
   "execution_count": 91,
   "metadata": {},
   "outputs": [],
   "source": [
    "rows,cols=data.shape\n",
    "input_data=data[:,1:]\n",
    "output_data1=data[:,0]"
   ]
  },
  {
   "cell_type": "code",
   "execution_count": 92,
   "metadata": {},
   "outputs": [],
   "source": [
    "output_data=np.zeros((rows,4))"
   ]
  },
  {
   "cell_type": "code",
   "execution_count": 93,
   "metadata": {},
   "outputs": [],
   "source": [
    "for i in range(1,5):\n",
    "    output_data[output_data1==i,i-1]=1"
   ]
  },
  {
   "cell_type": "code",
   "execution_count": 94,
   "metadata": {},
   "outputs": [],
   "source": [
    "def mapmaxmin(data):\n",
    "    min_data=data.min(axis=0)\n",
    "    max_data=data.max(axis=0)\n",
    "    return (data-min_data)/(max_data-min_data),np.array([max_data,min_data])"
   ]
  },
  {
   "cell_type": "heading",
   "metadata": {},
   "level": 1,
   "source": [
    "随机提取训练集及测试集"
   ]
  },
  {
   "cell_type": "code",
   "execution_count": 96,
   "metadata": {},
   "outputs": [],
   "source": [
    "np.random.seed(1000)\n",
    "k=np.random.choice(range(input_data.shape[0]),2000,replace=False)"
   ]
  },
  {
   "cell_type": "code",
   "execution_count": 97,
   "metadata": {},
   "outputs": [
    {
     "data": {
      "text/plain": [
       "1999"
      ]
     },
     "execution_count": 97,
     "output_type": "execute_result",
     "metadata": {}
    }
   ],
   "source": [
    "max(k)"
   ]
  },
  {
   "cell_type": "code",
   "execution_count": 98,
   "metadata": {},
   "outputs": [],
   "source": [
    "input_train=input_data[k[:1500],:]\n",
    "output_train=output_data[k[:1500],:]\n",
    "input_test=input_data[k[1500:],:]\n",
    "output_test=output_data[k[1500:],:]"
   ]
  },
  {
   "cell_type": "code",
   "execution_count": 99,
   "metadata": {},
   "outputs": [],
   "source": [
    "inputn,inputps=mapmaxmin(input_train)"
   ]
  },
  {
   "cell_type": "code",
   "execution_count": 100,
   "metadata": {},
   "outputs": [
    {
     "data": {
      "text/plain": [
       "(2000, 24)"
      ]
     },
     "execution_count": 100,
     "output_type": "execute_result",
     "metadata": {}
    }
   ],
   "source": [
    "input_data.shape"
   ]
  },
  {
   "cell_type": "heading",
   "metadata": {},
   "level": 1,
   "source": [
    "结构初始化"
   ]
  },
  {
   "cell_type": "code",
   "execution_count": 130,
   "metadata": {},
   "outputs": [],
   "source": [
    "# 网络结构\n",
    "innum=24\n",
    "midnum=25\n",
    "outnum=4\n",
    "# 权值权重阀值初始化\n",
    "w1=np.random.rand(innum,midnum)\n",
    "b1=np.random.rand(1,midnum)\n",
    "w2=np.random.rand(midnum,outnum)\n",
    "b2=np.random.rand(1,outnum)"
   ]
  },
  {
   "cell_type": "code",
   "execution_count": 118,
   "metadata": {},
   "outputs": [],
   "source": [
    "my_fun=lambda x:1/(1+np.exp(-x))"
   ]
  },
  {
   "cell_type": "code",
   "execution_count": 156,
   "metadata": {},
   "outputs": [
    {
     "name": "stderr",
     "output_type": "stream",
     "text": [
      "D:\\Program Files (x86)\\Anaconda3\\lib\\site-packages\\ipykernel\\__main__.py:1: RuntimeWarning: overflow encountered in exp\n  if __name__ == '__main__':\n"
     ]
    }
   ],
   "source": [
    "xite=1\n",
    "Err=np.zeros(20)\n",
    "for ii in range(20):\n",
    "    for i in range(len(inputn)):\n",
    "        I=np.dot(inputn[i,:],w1)+b1\n",
    "        Iout=my_fun(I)\n",
    "        yn=np.dot(Iout,w2)+b2\n",
    "        e=output_train[i,:]-yn\n",
    "        Err[ii]+=e.sum()\n",
    "        # 计算w2,b2调整量\n",
    "        dw2=np.dot(np.transpose(Iout),e)\n",
    "        db2=e\n",
    "        # 计算w1,b1调整量\n",
    "        FI=Iout*(1-Iout)\n",
    "        dw1=np.dot(np.transpose(inputn[i:i+1,:]),FI*np.dot(e,np.transpose(w2)))\n",
    "        db1=FI*np.dot(e,np.transpose(w2))\n",
    "        \n",
    "        # 权值更新\n",
    "        w1+=xite*dw1\n",
    "        w2+=xite*dw2\n",
    "        b1+=xite*db1\n",
    "        b2+=xite*db2"
   ]
  },
  {
   "cell_type": "code",
   "execution_count": 157,
   "metadata": {},
   "outputs": [
    {
     "data": {
      "text/plain": [
       "array([  4.13329937e-01,  -1.17623229e-15,  -1.17622908e-15,\n        -1.17622587e-15,  -1.17622266e-15,  -1.17621946e-15,\n        -1.17621625e-15,  -1.17621304e-15,  -1.17620983e-15,\n        -1.17620662e-15,  -1.17620341e-15,  -1.17620020e-15,\n        -1.17619699e-15,  -1.17619379e-15,  -1.17619058e-15,\n        -1.17618737e-15,  -1.17618416e-15,  -1.17618095e-15,\n        -1.17617774e-15,  -1.17617453e-15])"
      ]
     },
     "execution_count": 157,
     "output_type": "execute_result",
     "metadata": {}
    }
   ],
   "source": [
    "Err"
   ]
  },
  {
   "cell_type": "code",
   "execution_count": 133,
   "metadata": {},
   "outputs": [
    {
     "data": {
      "text/plain": [
       "array([[ 0.99894176,  0.99895937,  0.99967725,  0.99960943,  0.99909327,\n         0.99887353,  0.99867128,  0.99914547,  0.99935275,  0.99472813,\n         0.99872127,  0.99868074,  0.9994224 ,  0.99821339,  0.99969478,\n         0.99851727,  0.9996198 ,  0.99888456,  0.99919901,  0.99868048,\n         0.99966417,  0.99876227,  0.99852346,  0.99904687,  0.99935496]])"
      ]
     },
     "execution_count": 133,
     "output_type": "execute_result",
     "metadata": {}
    }
   ],
   "source": [
    "Iout"
   ]
  },
  {
   "cell_type": "code",
   "execution_count": 121,
   "metadata": {},
   "outputs": [
    {
     "data": {
      "text/plain": [
       "(25, 4)"
      ]
     },
     "execution_count": 121,
     "output_type": "execute_result",
     "metadata": {}
    }
   ],
   "source": [
    "w2.shape"
   ]
  },
  {
   "cell_type": "code",
   "execution_count": 126,
   "metadata": {},
   "outputs": [
    {
     "data": {
      "text/plain": [
       "(25, 25)"
      ]
     },
     "execution_count": 126,
     "output_type": "execute_result",
     "metadata": {}
    }
   ],
   "source": [
    "(np.dot(inputn[i:i+1,:],w1)+b1).shape"
   ]
  },
  {
   "cell_type": "code",
   "execution_count": 127,
   "metadata": {},
   "outputs": [
    {
     "data": {
      "text/plain": [
       "(1, 25)"
      ]
     },
     "execution_count": 127,
     "output_type": "execute_result",
     "metadata": {}
    }
   ],
   "source": [
    "np.dot(inputn[i:i+1,:],w1).shape"
   ]
  },
  {
   "cell_type": "code",
   "execution_count": 135,
   "metadata": {},
   "outputs": [
    {
     "data": {
      "text/plain": [
       "(1, 4)"
      ]
     },
     "execution_count": 135,
     "output_type": "execute_result",
     "metadata": {}
    }
   ],
   "source": [
    "yn.shape"
   ]
  },
  {
   "cell_type": "code",
   "execution_count": 137,
   "metadata": {},
   "outputs": [
    {
     "data": {
      "text/plain": [
       "(25, 4)"
      ]
     },
     "execution_count": 137,
     "output_type": "execute_result",
     "metadata": {}
    }
   ],
   "source": [
    "dw2.shape"
   ]
  },
  {
   "cell_type": "code",
   "execution_count": 139,
   "metadata": {},
   "outputs": [
    {
     "data": {
      "text/plain": [
       "(1, 25)"
      ]
     },
     "execution_count": 139,
     "output_type": "execute_result",
     "metadata": {}
    }
   ],
   "source": [
    "FI.shape"
   ]
  },
  {
   "cell_type": "code",
   "execution_count": 141,
   "metadata": {},
   "outputs": [
    {
     "ename": "ValueError",
     "evalue": "shapes (25,4) and (1,4) not aligned: 4 (dim 1) != 1 (dim 0)",
     "output_type": "error",
     "traceback": [
      "\u001b[1;31m---------------------------------------------------------------------------\u001b[0m",
      "\u001b[1;31mValueError\u001b[0m                                Traceback (most recent call last)",
      "\u001b[1;32m<ipython-input-141-efdd0504ae23>\u001b[0m in \u001b[0;36m<module>\u001b[1;34m()\u001b[0m\n\u001b[1;32m----> 1\u001b[1;33m \u001b[0mnp\u001b[0m\u001b[1;33m.\u001b[0m\u001b[0mdot\u001b[0m\u001b[1;33m(\u001b[0m\u001b[0mw2\u001b[0m\u001b[1;33m,\u001b[0m\u001b[0me\u001b[0m\u001b[1;33m)\u001b[0m\u001b[1;33m\u001b[0m\u001b[0m\n\u001b[0m",
      "\u001b[1;31mValueError\u001b[0m: shapes (25,4) and (1,4) not aligned: 4 (dim 1) != 1 (dim 0)"
     ]
    }
   ],
   "source": [
    "np.dot(w2,e)"
   ]
  },
  {
   "cell_type": "code",
   "execution_count": 143,
   "metadata": {},
   "outputs": [
    {
     "data": {
      "text/plain": [
       "(1, 4)"
      ]
     },
     "execution_count": 143,
     "output_type": "execute_result",
     "metadata": {}
    }
   ],
   "source": [
    "e.shape"
   ]
  },
  {
   "cell_type": "code",
   "execution_count": 145,
   "metadata": {},
   "outputs": [
    {
     "data": {
      "text/plain": [
       "(25, 4)"
      ]
     },
     "execution_count": 145,
     "output_type": "execute_result",
     "metadata": {}
    }
   ],
   "source": [
    "w2.shape"
   ]
  },
  {
   "cell_type": "code",
   "execution_count": 151,
   "metadata": {},
   "outputs": [
    {
     "data": {
      "text/plain": [
       "(24,)"
      ]
     },
     "execution_count": 151,
     "output_type": "execute_result",
     "metadata": {}
    }
   ],
   "source": [
    "inputn[i,:].shape"
   ]
  },
  {
   "cell_type": "code",
   "execution_count": 154,
   "metadata": {},
   "outputs": [
    {
     "data": {
      "text/plain": [
       "array([[ 0.12499442,  0.37817689,  0.58771895,  0.72021943,  0.667838  ,\n         0.63613138,  0.60847239,  0.47111636,  0.30970496,  0.69492276,\n         0.48345823,  0.84910078,  0.51419104,  0.55892158,  0.62332326,\n         0.65172065,  0.56470219,  0.35163639,  0.34080758,  0.51828084,\n         0.71474425,  0.57020403,  0.51224878,  0.7721796 ]])"
      ]
     },
     "execution_count": 154,
     "output_type": "execute_result",
     "metadata": {}
    }
   ],
   "source": [
    "inputn[0:1,:]"
   ]
  },
  {
   "cell_type": "code",
   "execution_count": null,
   "metadata": {},
   "outputs": [],
   "source": [
    "np.array((1,2))"
   ]
  },
  {
   "cell_type": "code",
   "execution_count": null,
   "metadata": {},
   "outputs": [],
   "source": [
    ""
   ]
  }
 ],
 "metadata": {},
 "nbformat": 4,
 "nbformat_minor": 0
}